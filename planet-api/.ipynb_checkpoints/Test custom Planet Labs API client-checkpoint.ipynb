{
 "cells": [
  {
   "cell_type": "code",
   "execution_count": 1,
   "metadata": {
    "collapsed": false
   },
   "outputs": [],
   "source": [
    "import numpy as np\n",
    "import pandas as pd\n",
    "\n",
    "from matplotlib import pyplot as plt\n",
    "%matplotlib inline\n",
    "\n",
    "from PIL import Image\n",
    "import skimage\n",
    "\n",
    "import sys, os\n",
    "\n",
    "import geojson\n",
    "import json\n",
    "\n",
    "from IPython.display import clear_output\n",
    "\n",
    "# these magics ensure that external modules that are modified are also automatically reloaded\n",
    "%load_ext autoreload\n",
    "%autoreload 2"
   ]
  },
  {
   "cell_type": "code",
   "execution_count": 2,
   "metadata": {
    "collapsed": false
   },
   "outputs": [],
   "source": [
    "myPlanetKey = \"664df19c4dcd42b3b7d14acd5b9936b4\""
   ]
  },
  {
   "cell_type": "markdown",
   "metadata": {},
   "source": [
    "### Define area of interest and filters"
   ]
  },
  {
   "cell_type": "code",
   "execution_count": null,
   "metadata": {
    "collapsed": true
   },
   "outputs": [],
   "source": [
    "# the geo json geometry object we got from geojson.io\n",
    "geo_json_geometry = {\n",
    "  \"type\": \"Polygon\",\n",
    "  \"coordinates\": [\n",
    "    [\n",
    "      [\n",
    "        -122.52227783203125,\n",
    "        40.660847697284815\n",
    "      ],\n",
    "      [\n",
    "        -122.52227783203125,\n",
    "        40.987154933797335\n",
    "      ],\n",
    "      [\n",
    "        -122.01690673828124,\n",
    "        40.987154933797335\n",
    "      ],\n",
    "      [\n",
    "        -122.01690673828124,\n",
    "        40.660847697284815\n",
    "      ],\n",
    "      [\n",
    "        -122.52227783203125,\n",
    "        40.660847697284815\n",
    "      ]\n",
    "    ]\n",
    "  ]\n",
    "}\n",
    "\n",
    "# filter for items the overlap with our chosen geometry\n",
    "geometry_filter = {\n",
    "  \"type\": \"GeometryFilter\",\n",
    "  \"field_name\": \"geometry\",\n",
    "  \"config\": geo_json_geometry\n",
    "}\n",
    "\n",
    "# filter images acquired in a certain date range\n",
    "date_range_filter = {\n",
    "  \"type\": \"DateRangeFilter\",\n",
    "  \"field_name\": \"acquired\",\n",
    "  \"config\": {\n",
    "    \"gte\": \"2016-07-01T00:00:00.000Z\",\n",
    "    \"lte\": \"2016-08-01T00:00:00.000Z\"\n",
    "  }\n",
    "}\n",
    "\n",
    "# filter any images which are more than 50% clouds\n",
    "cloud_cover_filter = {\n",
    "  \"type\": \"RangeFilter\",\n",
    "  \"field_name\": \"cloud_cover\",\n",
    "  \"config\": {\n",
    "    \"lte\": 0.5\n",
    "  }\n",
    "}\n",
    "\n",
    "# create a filter that combines our geo and date filters\n",
    "# could also use an \"OrFilter\"\n",
    "redding_reservoir = {\n",
    "  \"type\": \"AndFilter\",\n",
    "  \"config\": [geometry_filter, date_range_filter, cloud_cover_filter]\n",
    "}"
   ]
  },
  {
   "cell_type": "markdown",
   "metadata": {},
   "source": [
    "### Find out how much data is available for specified AOI & filters"
   ]
  },
  {
   "cell_type": "code",
   "execution_count": null,
   "metadata": {
    "collapsed": false
   },
   "outputs": [],
   "source": [
    "import os\n",
    "import requests\n",
    "from requests.auth import HTTPBasicAuth\n",
    "\n",
    "# Stats API request object\n",
    "stats_endpoint_request = {\n",
    "  \"interval\": \"day\",\n",
    "  \"item_types\": [\"REOrthoTile\"],\n",
    "  \"filter\": redding_reservoir\n",
    "}\n",
    "\n",
    "# fire off the POST request\n",
    "result = \\\n",
    "  requests.post(\n",
    "    'https://api.planet.com/data/v1/stats',\n",
    "    # auth=HTTPBasicAuth(os.environ['PLANET_API_KEY'], ''),\n",
    "    auth=HTTPBasicAuth(myPlanetKey, ''),\n",
    "    json=stats_endpoint_request)\n",
    "\n",
    "print result.text\n"
   ]
  },
  {
   "cell_type": "code",
   "execution_count": null,
   "metadata": {
    "collapsed": false
   },
   "outputs": [],
   "source": [
    "json.loads(result.text)"
   ]
  },
  {
   "cell_type": "code",
   "execution_count": null,
   "metadata": {
    "collapsed": false
   },
   "outputs": [],
   "source": [
    "result.json()"
   ]
  },
  {
   "cell_type": "markdown",
   "metadata": {},
   "source": [
    "### Get info for available items"
   ]
  },
  {
   "cell_type": "code",
   "execution_count": null,
   "metadata": {
    "collapsed": false
   },
   "outputs": [],
   "source": [
    "# Search API request object\n",
    "search_endpoint_request = {\n",
    "  \"item_types\": [\"REOrthoTile\"],\n",
    "  \"filter\": redding_reservoir\n",
    "}\n",
    "\n",
    "result = \\\n",
    "  requests.post(\n",
    "    'https://api.planet.com/data/v1/quick-search',\n",
    "    # auth=HTTPBasicAuth(os.environ['PLANET_API_KEY'], ''),\n",
    "    auth=HTTPBasicAuth(myPlanetKey, ''),\n",
    "    json=search_endpoint_request)\n",
    "\n",
    "res = json.loads(result.text)"
   ]
  },
  {
   "cell_type": "code",
   "execution_count": null,
   "metadata": {
    "collapsed": false
   },
   "outputs": [],
   "source": [
    "res['features'][0]['properties']"
   ]
  },
  {
   "cell_type": "code",
   "execution_count": null,
   "metadata": {
    "collapsed": false
   },
   "outputs": [],
   "source": [
    "res['features'][0]['id']"
   ]
  },
  {
   "cell_type": "markdown",
   "metadata": {},
   "source": [
    "### Activate assets to downlod"
   ]
  },
  {
   "cell_type": "code",
   "execution_count": null,
   "metadata": {
    "collapsed": false
   },
   "outputs": [],
   "source": [
    "import os\n",
    "import requests\n",
    "\n",
    "item_id = \"20160707_195147_1057916_RapidEye-1\"\n",
    "item_type = \"REOrthoTile\"\n",
    "asset_type = \"analytic\"\n",
    "\n",
    "# setup auth\n",
    "session = requests.Session()\n",
    "session.auth = (myPlanetKey, '')\n",
    "\n",
    "# request an item\n",
    "item = \\\n",
    "  session.get(\n",
    "    (\"https://api.planet.com/data/v1/item-types/\" +\n",
    "    \"{}/items/{}/assets/\").format(item_type, item_id))\n",
    "\n",
    "# extract the activation url from the item for the desired asset\n",
    "item_status = item.json()[asset_type]\n",
    "item_activation_url = item.json()[asset_type][\"_links\"][\"activate\"]\n",
    "\n",
    "# request activation\n",
    "response = session.post(item_activation_url)\n",
    "\n",
    "print response.status_code\n"
   ]
  },
  {
   "cell_type": "code",
   "execution_count": null,
   "metadata": {
    "collapsed": false
   },
   "outputs": [],
   "source": [
    "img_url = item.json()['analytic']['location']\n",
    "img_url"
   ]
  },
  {
   "cell_type": "code",
   "execution_count": null,
   "metadata": {
    "collapsed": true
   },
   "outputs": [],
   "source": [
    "import cv2 \n",
    "\n",
    "def get_image_data(url, key):\n",
    "\t\"\"\" Retrieve image data from a given URL into a numpy array.\n",
    "\t\"\"\"\n",
    "\tr = requests.get(url, stream=True, auth=(key, ''))\n",
    "\timgstr = \"\".join([chunk for chunk in r.iter_content(chunk_size=1024)])\n",
    "\tnparr = np.fromstring(imgstr, np.uint8)\n",
    "\timgarr = cv2.imdecode(nparr, cv2.IMREAD_LOAD_GDAL)\n",
    "\treturn imgarr\n"
   ]
  },
  {
   "cell_type": "code",
   "execution_count": null,
   "metadata": {
    "collapsed": false
   },
   "outputs": [],
   "source": [
    "img = get_image_data(img_url, myPlanetKey)\n",
    "img.shape"
   ]
  },
  {
   "cell_type": "code",
   "execution_count": null,
   "metadata": {
    "collapsed": true
   },
   "outputs": [],
   "source": [
    "from skimage.transform import resize\n",
    "\n",
    "img_thumb = resize(img, (500,500))"
   ]
  },
  {
   "cell_type": "code",
   "execution_count": null,
   "metadata": {
    "collapsed": false
   },
   "outputs": [],
   "source": [
    "img_thumb.shape"
   ]
  },
  {
   "cell_type": "code",
   "execution_count": null,
   "metadata": {
    "collapsed": false
   },
   "outputs": [],
   "source": [
    "plt.imshow(img_thumb[:,:,3])"
   ]
  },
  {
   "cell_type": "code",
   "execution_count": null,
   "metadata": {
    "collapsed": false
   },
   "outputs": [],
   "source": [
    "item.json()['visual']"
   ]
  },
  {
   "cell_type": "code",
   "execution_count": null,
   "metadata": {
    "collapsed": true
   },
   "outputs": [],
   "source": []
  }
 ],
 "metadata": {
  "kernelspec": {
   "display_name": "Python 2",
   "language": "python",
   "name": "python2"
  },
  "language_info": {
   "codemirror_mode": {
    "name": "ipython",
    "version": 2
   },
   "file_extension": ".py",
   "mimetype": "text/x-python",
   "name": "python",
   "nbconvert_exporter": "python",
   "pygments_lexer": "ipython2",
   "version": "2.7.6"
  }
 },
 "nbformat": 4,
 "nbformat_minor": 0
}
