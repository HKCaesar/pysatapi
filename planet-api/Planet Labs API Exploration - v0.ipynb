{
 "cells": [
  {
   "cell_type": "code",
   "execution_count": 3,
   "metadata": {
    "collapsed": false
   },
   "outputs": [
    {
     "name": "stdout",
     "output_type": "stream",
     "text": [
      "The autoreload extension is already loaded. To reload it, use:\n",
      "  %reload_ext autoreload\n"
     ]
    }
   ],
   "source": [
    "import numpy as np\n",
    "import pandas as pd\n",
    "\n",
    "from matplotlib import pyplot as plt\n",
    "%matplotlib inline\n",
    "\n",
    "from PIL import Image\n",
    "import skimage\n",
    "\n",
    "import sys, os\n",
    "\n",
    "from IPython.display import clear_output\n",
    "\n",
    "# these magics ensure that external modules that are modified are also automatically reloaded\n",
    "%load_ext autoreload\n",
    "%autoreload 2"
   ]
  },
  {
   "cell_type": "code",
   "execution_count": 4,
   "metadata": {
    "collapsed": false
   },
   "outputs": [],
   "source": [
    "myPlanetKey = \"664df19c4dcd42b3b7d14acd5b9936b4\""
   ]
  },
  {
   "cell_type": "code",
   "execution_count": 5,
   "metadata": {
    "collapsed": true
   },
   "outputs": [],
   "source": [
    "outputPath  = \"/home/data/prop-39-school/imagery/\"\n",
    "\n",
    "try:\n",
    "    os.makedirs(outputPath)\n",
    "except OSError:\n",
    "    pass"
   ]
  },
  {
   "cell_type": "code",
   "execution_count": 8,
   "metadata": {
    "collapsed": false
   },
   "outputs": [
    {
     "name": "stdout",
     "output_type": "stream",
     "text": [
      "Planet Labs API Exploration.ipynb  planetlabs.py  planetlabs.pyc\r\n"
     ]
    }
   ],
   "source": [
    "!ls"
   ]
  },
  {
   "cell_type": "markdown",
   "metadata": {},
   "source": [
    "# Testing Planet's Python client"
   ]
  },
  {
   "cell_type": "code",
   "execution_count": 18,
   "metadata": {
    "collapsed": false
   },
   "outputs": [],
   "source": [
    "from planet import api\n",
    "client = api.ClientV1(api_key=myPlanetKey)"
   ]
  },
  {
   "cell_type": "code",
   "execution_count": 19,
   "metadata": {
    "collapsed": false
   },
   "outputs": [
    {
     "name": "stdout",
     "output_type": "stream",
     "text": [
      "Total data available from Planet by constellation:\n"
     ]
    },
    {
     "ename": "AttributeError",
     "evalue": "'ClientV1' object has no attribute 'get_scenes_list'",
     "output_type": "error",
     "traceback": [
      "\u001b[0;31m---------------------------------------------------------------------------\u001b[0m",
      "\u001b[0;31mAttributeError\u001b[0m                            Traceback (most recent call last)",
      "\u001b[0;32m<ipython-input-19-6c313ad7f532>\u001b[0m in \u001b[0;36m<module>\u001b[0;34m()\u001b[0m\n\u001b[1;32m      1\u001b[0m \u001b[0;32mprint\u001b[0m \u001b[0;34m\"Total data available from Planet by constellation:\"\u001b[0m\u001b[0;34m\u001b[0m\u001b[0m\n\u001b[1;32m      2\u001b[0m \u001b[0;32mfor\u001b[0m \u001b[0msceneType\u001b[0m \u001b[0;32min\u001b[0m \u001b[0;34m[\u001b[0m\u001b[0;34m\"landsat\"\u001b[0m\u001b[0;34m,\u001b[0m \u001b[0;34m\"ortho\"\u001b[0m\u001b[0;34m]\u001b[0m\u001b[0;34m:\u001b[0m\u001b[0;34m\u001b[0m\u001b[0m\n\u001b[0;32m----> 3\u001b[0;31m     \u001b[0mscenes\u001b[0m \u001b[0;34m=\u001b[0m \u001b[0mclient\u001b[0m\u001b[0;34m.\u001b[0m\u001b[0mget_scenes_list\u001b[0m\u001b[0;34m(\u001b[0m\u001b[0mscene_type\u001b[0m\u001b[0;34m=\u001b[0m\u001b[0msceneType\u001b[0m\u001b[0;34m)\u001b[0m\u001b[0;34m\u001b[0m\u001b[0m\n\u001b[0m\u001b[1;32m      4\u001b[0m     \u001b[0;32mprint\u001b[0m \u001b[0;34m\"%7s: %d\"\u001b[0m\u001b[0;34m%\u001b[0m\u001b[0;34m(\u001b[0m\u001b[0msceneType\u001b[0m\u001b[0;34m,\u001b[0m \u001b[0mscenes\u001b[0m\u001b[0;34m.\u001b[0m\u001b[0mget\u001b[0m\u001b[0;34m(\u001b[0m\u001b[0;34m)\u001b[0m\u001b[0;34m[\u001b[0m\u001b[0;34m'count'\u001b[0m\u001b[0;34m]\u001b[0m\u001b[0;34m)\u001b[0m\u001b[0;34m\u001b[0m\u001b[0m\n",
      "\u001b[0;31mAttributeError\u001b[0m: 'ClientV1' object has no attribute 'get_scenes_list'"
     ]
    }
   ],
   "source": [
    "print \"Total data available from Planet by constellation:\"\n",
    "for sceneType in [\"landsat\", \"ortho\"]:\n",
    "    scenes = client.get_scenes_list(scene_type=sceneType)\n",
    "    print \"%7s: %d\"%(sceneType, scenes.get()['count'])"
   ]
  },
  {
   "cell_type": "code",
   "execution_count": null,
   "metadata": {
    "collapsed": true
   },
   "outputs": [],
   "source": [
    "client.get"
   ]
  },
  {
   "cell_type": "code",
   "execution_count": null,
   "metadata": {
    "collapsed": false
   },
   "outputs": [],
   "source": [
    "filters = {'cloud_cover.estimated.lt': 1}\n",
    "# scenes = client.get_scenes_list(intersects=wkt, limit=None, **filters)\n",
    "# scenes = client.get_scenes_list(scene_type='ortho')\n",
    "# scenes = client.get_scenes_list(scene_type='landsat')\n",
    "wkt = 'POINT(37.65 -122.09)'\n",
    "scenes = client.get_scenes_list(scene_type='landsat', intersection=wkt, limit=None, **filters)\n",
    "geojson= scenes.get()\n",
    "\n",
    "print \"%d scenes\"%geojson['count']"
   ]
  },
  {
   "cell_type": "code",
   "execution_count": null,
   "metadata": {
    "collapsed": false
   },
   "outputs": [],
   "source": [
    "geojson['features'][0]"
   ]
  },
  {
   "cell_type": "code",
   "execution_count": null,
   "metadata": {
    "collapsed": false
   },
   "outputs": [],
   "source": [
    "scene_ids = [scene['id'] for scene in scenes.items_iter(5)]\n",
    "print len(scene_ids)\n",
    "print scene_ids"
   ]
  },
  {
   "cell_type": "code",
   "execution_count": null,
   "metadata": {
    "collapsed": false
   },
   "outputs": [],
   "source": [
    "metadata_body = client.get_scene_metadata(scene_id='LC81441102016256LGN00')\n",
    "metadata = metadata_body.get()\n",
    "print metadata['properties']['sat']"
   ]
  },
  {
   "cell_type": "code",
   "execution_count": null,
   "metadata": {
    "collapsed": false
   },
   "outputs": [],
   "source": [
    "callback = api.write_to_file(directory='/home/ubuntu/data/prop39/images-planet/')\n",
    "callbacks = client.fetch_scene_geotiffs(scene_ids, callback=callback)\n",
    "for cb in callbacks:\n",
    "    body = cb.await()\n",
    "    print 'downloaded', body.name, 'size=%s bytes' % len(body)"
   ]
  },
  {
   "cell_type": "markdown",
   "metadata": {},
   "source": [
    "# Using raw Python"
   ]
  },
  {
   "cell_type": "code",
   "execution_count": null,
   "metadata": {
    "collapsed": true
   },
   "outputs": [],
   "source": [
    "# construct request for Planet API\n",
    "\n",
    "# define AOI\n",
    "\n",
    "# (longitude, latitude)\n",
    "sf_nw = locations[0]\n",
    "sf_se = locations[1]\n",
    "sf_ne = (sf_se[0], sf_nw[1])\n",
    "sf_sw = (sf_nw[0], sf_se[1])\n",
    "\n",
    "# Using WKT\n",
    "\n",
    "from shapely.geometry import Polygon\n",
    "from shapely.wkt import dumps as wkt_dumps\n",
    "\n",
    "poly = Polygon([sf_nw, sf_ne, sf_se, sf_sw, sf_nw])\n",
    "intersects = wkt_dumps(poly)\n",
    "\n",
    "# Or, using GeoJSON\n",
    "\n",
    "import geojson\n",
    "\n",
    "poly = geojson.Polygon([[sf_nw, sf_ne, sf_se, sf_sw, sf_nw]])\n",
    "intersects = geojson.dumps(poly)\n",
    "\n",
    "# Back to shared code between WKT and GeoJSON\n",
    "\n",
    "filters = {\n",
    "    # Your filters here, for example:\n",
    "    # Cloud cover less than 1%\n",
    "    \"cloud_cover.estimated.lte\": 1,\n",
    "    \"intersects\": intersects,\n",
    "    'page.acquired.gt': \"2012-01-01T00:00:00\"\n",
    "}\n",
    "\n",
    "# ortho, landsat, rapideye\n",
    "url = \"https://api.planet.com/v0/scenes/ortho/\""
   ]
  },
  {
   "cell_type": "code",
   "execution_count": null,
   "metadata": {
    "collapsed": false
   },
   "outputs": [],
   "source": [
    "sf_nw"
   ]
  },
  {
   "cell_type": "code",
   "execution_count": null,
   "metadata": {
    "collapsed": true
   },
   "outputs": [],
   "source": [
    "import geojson\n",
    "geojson.\n"
   ]
  },
  {
   "cell_type": "code",
   "execution_count": null,
   "metadata": {
    "collapsed": false
   },
   "outputs": [],
   "source": [
    "# send request, get response\n",
    "r = requests.get(url, params=filters, auth=(myPlanetKey, ''))\n",
    "r.raise_for_status()\n",
    "data = r.json()\n",
    "scenes_data = data[\"features\"]\n",
    "scene = scenes_data[0]"
   ]
  },
  {
   "cell_type": "code",
   "execution_count": null,
   "metadata": {
    "collapsed": false
   },
   "outputs": [],
   "source": [
    "len(scenes_data), data['count']"
   ]
  },
  {
   "cell_type": "code",
   "execution_count": null,
   "metadata": {
    "collapsed": false
   },
   "outputs": [],
   "source": [
    "data['links']"
   ]
  },
  {
   "cell_type": "code",
   "execution_count": null,
   "metadata": {
    "collapsed": false
   },
   "outputs": [],
   "source": [
    "scene"
   ]
  },
  {
   "cell_type": "code",
   "execution_count": null,
   "metadata": {
    "collapsed": false
   },
   "outputs": [],
   "source": [
    "# extract fields of interest from scene metadata\n",
    "timeAcquired = scene[\"properties\"]['acquired']\n",
    "cloudCoverEst= scene[\"properties\"]['cloud_cover']['estimated']\n",
    "nrScenes     = data['count']\n",
    "\n",
    "# links to actual scene data\n",
    "full_link  = scene[\"properties\"][\"links\"]['self']\n",
    "thumb_link = scene[\"properties\"][\"links\"]['thumbnail']\n",
    "anal_link  = scene[\"properties\"]['data']['products']['analytic']['full']\n",
    "\n",
    "# links to next scene\n",
    "next_url = data[\"links\"].get(\"next\", None) \n"
   ]
  },
  {
   "cell_type": "code",
   "execution_count": null,
   "metadata": {
    "collapsed": true
   },
   "outputs": [],
   "source": [
    "# obtain current scene data\n",
    "\n",
    "import urllib\n",
    "import cStringIO \n",
    "\n",
    "web_sock   = urllib.urlopen(anal_link)\n",
    "imgdata    = cStringIO.StringIO(web_sock.read()) # constructs a StringIO holding the image\n",
    "imgstr     = imgdata.getvalue()"
   ]
  },
  {
   "cell_type": "code",
   "execution_count": null,
   "metadata": {
    "collapsed": false
   },
   "outputs": [],
   "source": [
    "r = requests.get(anal_link, stream=True, auth=(myPlanetKey, ''))\n",
    "if 'content-disposition' in r.headers:\n",
    "    local_filename = r.headers['content-disposition'] \\\n",
    "        .split(\"filename=\")[-1].strip(\"'\\\"\")\n",
    "else:\n",
    "    local_filename = '.'.join(url.split('/')[-2:])\n",
    "    print local_filename\n",
    "\n",
    "imgdata = \"\".join([chunk for chunk in r.iter_content(chunk_size=1024)])"
   ]
  },
  {
   "cell_type": "code",
   "execution_count": null,
   "metadata": {
    "collapsed": false
   },
   "outputs": [],
   "source": [
    "imgdata==imgstr"
   ]
  },
  {
   "cell_type": "code",
   "execution_count": null,
   "metadata": {
    "collapsed": false
   },
   "outputs": [],
   "source": [
    "# convert image data to numpy array\n",
    "\n",
    "import numpy as np\n",
    "import cv2\n",
    "\n",
    "nparr = np.fromstring(imgstr, np.uint8)\n",
    "imgarr = cv2.imdecode(nparr, cv2.IMREAD_LOAD_GDAL)\n",
    "print imgarr.shape"
   ]
  },
  {
   "cell_type": "code",
   "execution_count": null,
   "metadata": {
    "collapsed": false
   },
   "outputs": [],
   "source": [
    "imgarr.sum((0,1))"
   ]
  },
  {
   "cell_type": "code",
   "execution_count": null,
   "metadata": {
    "collapsed": false
   },
   "outputs": [],
   "source": [
    "# save data to disc\n",
    "with open(\"tmp.tiff\", \"wb\") as output:\n",
    "    output.write(imgstr)\n",
    "\n",
    "# from libtiff import TIFF\n",
    "# tiff = TIFF.open('tmp2.tiff', mode='w')\n",
    "# tiff.write_image(imgdata.getvalue())\n",
    "# tiff.close()"
   ]
  },
  {
   "cell_type": "code",
   "execution_count": null,
   "metadata": {
    "collapsed": false
   },
   "outputs": [],
   "source": [
    "plt.figure(figsize=(8,8))\n",
    "plt.imshow(imgarr[:,:,1:])"
   ]
  },
  {
   "cell_type": "code",
   "execution_count": null,
   "metadata": {
    "collapsed": true
   },
   "outputs": [],
   "source": [
    "import requests\n",
    "import urllib3   \n",
    "\n",
    "next_url = \"https://api.planet.com/v0/scenes/ortho/?\" \\\n",
    "    + urllib.urlencode(filters)   \n",
    "\n",
    "while next_url:\n",
    "    # Note: you don't have to pass the filters in again here,\n",
    "    # here, they will always be included in data.links.next\n",
    "    r = requests.get(next_url, auth=(key, ''))\n",
    "    r.raise_for_status()\n",
    "    data = r.json()\n",
    "    scenes_data = data[\"features\"]\n",
    "    # do something with scenes_data\n",
    "    break\n",
    "    next_url = data[\"links\"].get(\"next\", None) "
   ]
  },
  {
   "cell_type": "markdown",
   "metadata": {},
   "source": [
    "# Test own planetlabs API client"
   ]
  },
  {
   "cell_type": "code",
   "execution_count": 12,
   "metadata": {
    "collapsed": false
   },
   "outputs": [],
   "source": [
    "import planetlabs as pl"
   ]
  },
  {
   "cell_type": "code",
   "execution_count": 13,
   "metadata": {
    "collapsed": false
   },
   "outputs": [],
   "source": [
    "plClient = pl.PlanetLabsAPI(key=myPlanetKey, dataType=\"scenes\", provider=\"ortho\")"
   ]
  },
  {
   "cell_type": "code",
   "execution_count": 14,
   "metadata": {
    "collapsed": false
   },
   "outputs": [
    {
     "ename": "AttributeError",
     "evalue": "'module' object has no attribute 'urlencode'",
     "output_type": "error",
     "traceback": [
      "\u001b[0;31m---------------------------------------------------------------------------\u001b[0m",
      "\u001b[0;31mAttributeError\u001b[0m                            Traceback (most recent call last)",
      "\u001b[0;32m<ipython-input-14-b72fb631ad11>\u001b[0m in \u001b[0;36m<module>\u001b[0;34m()\u001b[0m\n\u001b[0;32m----> 1\u001b[0;31m \u001b[0mscenesData\u001b[0m \u001b[0;34m=\u001b[0m \u001b[0mplClient\u001b[0m\u001b[0;34m.\u001b[0m\u001b[0mget_scenes_metadata\u001b[0m\u001b[0;34m(\u001b[0m\u001b[0mlimit\u001b[0m\u001b[0;34m=\u001b[0m\u001b[0;36m100\u001b[0m\u001b[0;34m)\u001b[0m\u001b[0;34m\u001b[0m\u001b[0m\n\u001b[0m",
      "\u001b[0;32m/home/nbserver/satellite-image-tools/planet-api/planetlabs.pyc\u001b[0m in \u001b[0;36mget_scenes_metadata\u001b[0;34m(self, filters, limit)\u001b[0m\n\u001b[1;32m     72\u001b[0m                 \u001b[0;32mif\u001b[0m \u001b[0mlimit\u001b[0m \u001b[0;32mis\u001b[0m \u001b[0;32mnot\u001b[0m \u001b[0mNone\u001b[0m\u001b[0;34m:\u001b[0m\u001b[0;34m\u001b[0m\u001b[0m\n\u001b[1;32m     73\u001b[0m                         \u001b[0mfilters\u001b[0m \u001b[0;34m=\u001b[0m \u001b[0;34m{\u001b[0m\u001b[0;34m\"limit\"\u001b[0m\u001b[0;34m:\u001b[0m\u001b[0mlimit\u001b[0m\u001b[0;34m}\u001b[0m\u001b[0;34m\u001b[0m\u001b[0m\n\u001b[0;32m---> 74\u001b[0;31m                 \u001b[0mnextURL\u001b[0m \u001b[0;34m=\u001b[0m \u001b[0mself\u001b[0m\u001b[0;34m.\u001b[0m\u001b[0mconstruct_url_request\u001b[0m\u001b[0;34m(\u001b[0m\u001b[0mfilters\u001b[0m\u001b[0;34m)\u001b[0m\u001b[0;34m\u001b[0m\u001b[0m\n\u001b[0m\u001b[1;32m     75\u001b[0m                 \u001b[0;32mwhile\u001b[0m \u001b[0;34m(\u001b[0m\u001b[0;34m(\u001b[0m\u001b[0mnrScenes\u001b[0m \u001b[0;34m<\u001b[0m \u001b[0mlimit\u001b[0m\u001b[0;34m)\u001b[0m \u001b[0;32mif\u001b[0m \u001b[0mlimit\u001b[0m \u001b[0;34m!=\u001b[0m \u001b[0;34m-\u001b[0m\u001b[0;36m1\u001b[0m \u001b[0;32melse\u001b[0m \u001b[0mTrue\u001b[0m\u001b[0;34m)\u001b[0m \u001b[0;32mand\u001b[0m \u001b[0mnextURL\u001b[0m\u001b[0;34m:\u001b[0m\u001b[0;34m\u001b[0m\u001b[0m\n\u001b[1;32m     76\u001b[0m                         \u001b[0mr\u001b[0m \u001b[0;34m=\u001b[0m \u001b[0mrequests\u001b[0m\u001b[0;34m.\u001b[0m\u001b[0mget\u001b[0m\u001b[0;34m(\u001b[0m\u001b[0mnextURL\u001b[0m\u001b[0;34m,\u001b[0m \u001b[0mauth\u001b[0m\u001b[0;34m=\u001b[0m\u001b[0;34m(\u001b[0m\u001b[0mself\u001b[0m\u001b[0;34m.\u001b[0m\u001b[0m_key\u001b[0m\u001b[0;34m,\u001b[0m \u001b[0;34m''\u001b[0m\u001b[0;34m)\u001b[0m\u001b[0;34m)\u001b[0m\u001b[0;34m\u001b[0m\u001b[0m\n",
      "\u001b[0;32m/home/nbserver/satellite-image-tools/planet-api/planetlabs.pyc\u001b[0m in \u001b[0;36mconstruct_url_request\u001b[0;34m(self, filters)\u001b[0m\n\u001b[1;32m     90\u001b[0m                 \u001b[0murl\u001b[0m \u001b[0;34m=\u001b[0m \u001b[0mBASE_URL\u001b[0m \u001b[0;34m+\u001b[0m \u001b[0;34m\"%s/%s/?\"\u001b[0m\u001b[0;34m%\u001b[0m\u001b[0;34m(\u001b[0m\u001b[0mself\u001b[0m\u001b[0;34m.\u001b[0m\u001b[0m_dataType\u001b[0m\u001b[0;34m,\u001b[0m \u001b[0mself\u001b[0m\u001b[0;34m.\u001b[0m\u001b[0m_provider\u001b[0m\u001b[0;34m)\u001b[0m\u001b[0;34m\u001b[0m\u001b[0m\n\u001b[1;32m     91\u001b[0m                 \u001b[0;32mif\u001b[0m \u001b[0mfilters\u001b[0m \u001b[0;32mis\u001b[0m \u001b[0;32mnot\u001b[0m \u001b[0mNone\u001b[0m\u001b[0;34m:\u001b[0m\u001b[0;34m\u001b[0m\u001b[0m\n\u001b[0;32m---> 92\u001b[0;31m                         \u001b[0murl\u001b[0m \u001b[0;34m+=\u001b[0m \u001b[0murllib\u001b[0m\u001b[0;34m.\u001b[0m\u001b[0murlencode\u001b[0m\u001b[0;34m(\u001b[0m\u001b[0mfilters\u001b[0m\u001b[0;34m)\u001b[0m\u001b[0;34m\u001b[0m\u001b[0m\n\u001b[0m\u001b[1;32m     93\u001b[0m                 \u001b[0;32mreturn\u001b[0m \u001b[0murl\u001b[0m\u001b[0;34m\u001b[0m\u001b[0m\n\u001b[1;32m     94\u001b[0m \u001b[0;34m\u001b[0m\u001b[0m\n",
      "\u001b[0;31mAttributeError\u001b[0m: 'module' object has no attribute 'urlencode'"
     ]
    }
   ],
   "source": [
    "scenesData = plClient.get_scenes_metadata(limit=100)"
   ]
  },
  {
   "cell_type": "code",
   "execution_count": null,
   "metadata": {
    "collapsed": false
   },
   "outputs": [],
   "source": [
    "scenesData[0]"
   ]
  },
  {
   "cell_type": "code",
   "execution_count": null,
   "metadata": {
    "collapsed": false
   },
   "outputs": [],
   "source": [
    "link = scenesData[0]['properties']['data']['products']['analytic']['full']\n",
    "\n",
    "img = plClient.get_image_data_from_url(anal_link)"
   ]
  },
  {
   "cell_type": "code",
   "execution_count": null,
   "metadata": {
    "collapsed": false
   },
   "outputs": [],
   "source": [
    "img.shape"
   ]
  },
  {
   "cell_type": "code",
   "execution_count": null,
   "metadata": {
    "collapsed": false
   },
   "outputs": [],
   "source": [
    "plt.figure(figsize=(8,8))\n",
    "plt.imshow(img[:,:,1:])"
   ]
  },
  {
   "cell_type": "code",
   "execution_count": null,
   "metadata": {
    "collapsed": false
   },
   "outputs": [],
   "source": [
    "plt.hist(img[:,:,3].flatten())"
   ]
  },
  {
   "cell_type": "code",
   "execution_count": null,
   "metadata": {
    "collapsed": false
   },
   "outputs": [],
   "source": [
    "plClient.download_image_from_url(anal_link)"
   ]
  },
  {
   "cell_type": "code",
   "execution_count": null,
   "metadata": {
    "collapsed": false
   },
   "outputs": [],
   "source": [
    "pl.extract_scene_attributes(scenesData[0], attribute=\"timeAcquired\")"
   ]
  },
  {
   "cell_type": "code",
   "execution_count": null,
   "metadata": {
    "collapsed": false
   },
   "outputs": [],
   "source": [
    "print locations[0]\n",
    "scenes = plClient.get_filtered_scenes_metadata(loc=locations[0])"
   ]
  },
  {
   "cell_type": "code",
   "execution_count": null,
   "metadata": {
    "collapsed": true
   },
   "outputs": [],
   "source": []
  }
 ],
 "metadata": {
  "kernelspec": {
   "display_name": "Python 2",
   "language": "python",
   "name": "python2"
  },
  "language_info": {
   "codemirror_mode": {
    "name": "ipython",
    "version": 2
   },
   "file_extension": ".py",
   "mimetype": "text/x-python",
   "name": "python",
   "nbconvert_exporter": "python",
   "pygments_lexer": "ipython2",
   "version": "2.7.6"
  }
 },
 "nbformat": 4,
 "nbformat_minor": 0
}
