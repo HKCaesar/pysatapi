{
 "cells": [
  {
   "cell_type": "code",
   "execution_count": 2,
   "metadata": {
    "collapsed": false
   },
   "outputs": [],
   "source": [
    "import numpy as np\n",
    "import pandas as pd\n",
    "\n",
    "from matplotlib import pyplot as plt\n",
    "%matplotlib inline\n",
    "\n",
    "from PIL import Image\n",
    "import skimage\n",
    "\n",
    "import sys, os\n",
    "\n",
    "import geojson\n",
    "import json\n",
    "\n",
    "from IPython.display import clear_output\n",
    "\n",
    "# these magics ensure that external modules that are modified are also automatically reloaded\n",
    "%load_ext autoreload\n",
    "%autoreload 2"
   ]
  },
  {
   "cell_type": "code",
   "execution_count": 3,
   "metadata": {
    "collapsed": true
   },
   "outputs": [],
   "source": [
    "import planet\n",
    "\n",
    "from planet import api\n",
    "from planet.api import filters\n",
    "from sys import stdout"
   ]
  },
  {
   "cell_type": "code",
   "execution_count": 6,
   "metadata": {
    "collapsed": false
   },
   "outputs": [],
   "source": [
    "myPlanetKey = \"664df19c4dcd42b3b7d14acd5b9936b4\""
   ]
  },
  {
   "cell_type": "code",
   "execution_count": 7,
   "metadata": {
    "collapsed": false
   },
   "outputs": [],
   "source": [
    "# will pick up api_key via environment variable PL_API_KEY\n",
    "# but can be specified using `api_key` named argument\n",
    "client = api.ClientV1(api_key=myPlanetKey)"
   ]
  },
  {
   "cell_type": "markdown",
   "metadata": {},
   "source": [
    "### Search by AOI, time, and other properties (cloud cover)"
   ]
  },
  {
   "cell_type": "code",
   "execution_count": 8,
   "metadata": {
    "collapsed": true
   },
   "outputs": [],
   "source": [
    "# cloudy by date - a silly example to see when it is cloudiest according\n",
    "# to planet imagery\n",
    "#\n",
    "# output a CSV of PlanetScope item-id, cloud cover, and date acquired\n",
    "# for a region around the San Fransisco peninsula\n",
    "\n",
    "# geojson AOI\n",
    "aoi = {\n",
    "  \"type\": \"Polygon\",\n",
    "  \"coordinates\": [\n",
    "    [\n",
    "      [-122.54, 37.81],\n",
    "      [-122.38, 37.84],\n",
    "      [-122.35, 37.71],\n",
    "      [-122.53, 37.70],\n",
    "      [-122.54, 37.81]\n",
    "    ]\n",
    "  ]\n",
    "}"
   ]
  },
  {
   "cell_type": "code",
   "execution_count": 10,
   "metadata": {
    "collapsed": false
   },
   "outputs": [
    {
     "data": {
      "text/plain": [
       "{'config': ({'config': {'coordinates': [[[-122.54, 37.81],\n",
       "      [-122.38, 37.84],\n",
       "      [-122.35, 37.71],\n",
       "      [-122.53, 37.7],\n",
       "      [-122.54, 37.81]]],\n",
       "    'type': 'Polygon'},\n",
       "   'field_name': 'geometry',\n",
       "   'type': 'GeometryFilter'},\n",
       "  {'config': {'gt': 0}, 'field_name': 'cloud_cover', 'type': 'RangeFilter'}),\n",
       " 'type': 'AndFilter'}"
      ]
     },
     "execution_count": 10,
     "metadata": {},
     "output_type": "execute_result"
    }
   ],
   "source": [
    "# build a query using the AOI and\n",
    "# a cloud_cover filter that excludes 'cloud free' scenes\n",
    "query = filters.and_filter(\n",
    "    filters.geom_filter(aoi),\n",
    "    filters.range_filter('cloud_cover', gt=0),\n",
    ")\n",
    "\n",
    "query"
   ]
  },
  {
   "cell_type": "code",
   "execution_count": 21,
   "metadata": {
    "collapsed": false
   },
   "outputs": [
    {
     "name": "stderr",
     "output_type": "stream",
     "text": [
      "/usr/local/lib/python2.7/dist-packages/requests/packages/urllib3/util/ssl_.py:132: InsecurePlatformWarning: A true SSLContext object is not available. This prevents urllib3 from configuring SSL appropriately and may cause certain SSL connections to fail. You can upgrade to a newer version of Python to solve this. For more information, see https://urllib3.readthedocs.io/en/latest/advanced-usage.html#ssl-warnings\n",
      "  InsecurePlatformWarning\n"
     ]
    },
    {
     "name": "stdout",
     "output_type": "stream",
     "text": [
      "id,cloud_cover,date\n",
      "20170419_180645_1010,0.07,2017-04-19T18:06:45.464541Z\n",
      "20170419_180644_1010,0.27,2017-04-19T18:06:44.407174Z\n",
      "20170419_181313_0e0d,0.03,2017-04-19T18:13:13.697499Z\n",
      "20170419_180521_1009,0.09,2017-04-19T18:05:21.772777Z\n",
      "20170419_180520_1009,0.01,2017-04-19T18:05:20.715291Z\n",
      "20170419_180519_1009,0.03,2017-04-19T18:05:19.657805Z\n",
      "20170419_180518_1009,0.01,2017-04-19T18:05:18.600319Z\n",
      "20170419_181316_0e0d,0.1,2017-04-19T18:13:16.913472Z\n",
      "20170419_181315_0e0d,0.02,2017-04-19T18:13:15.841481Z\n",
      "20170419_181314_0e0d,0.03,2017-04-19T18:13:14.76949Z\n",
      "20170418_180653_1017,0.69,2017-04-18T18:06:53.053834Z\n",
      "20170418_180651_1017,0.72,2017-04-18T18:06:51.9988Z\n",
      "20170415_180505_1024,0.01,2017-04-15T18:05:05.023325Z\n",
      "20170415_180503_1024,0.22,2017-04-15T18:05:03.956408Z\n",
      "20170415_180502_1024,0.21,2017-04-15T18:05:02.889491Z\n",
      "20170415_180501_1024,0.04,2017-04-15T18:05:01.822574Z\n",
      "20160515_153305_1_0c70,0.03,2016-05-15T15:33:05.787533Z\n",
      "20170415_181354_0e16,0.04,2017-04-15T18:13:54.915159Z\n",
      "20170415_181353_0e16,0.13,2017-04-15T18:13:53.846468Z\n",
      "20170415_181352_0e16,0.16,2017-04-15T18:13:52.777777Z\n",
      "20170415_181351_0e16,0.65,2017-04-15T18:13:51.709086Z\n",
      "20170413_180452_1041,0.28,2017-04-13T18:04:52.206028Z\n",
      "20170413_180451_1041,0.49,2017-04-13T18:04:51.151669Z\n",
      "20170413_180603_1042,0.16,2017-04-13T18:06:03.32096Z\n",
      "20170413_180602_1042,0.33,2017-04-13T18:06:02.266497Z\n",
      "20170413_180601_1042,0.57,2017-04-13T18:06:01.212034Z\n",
      "20170410_180557_1025,0.01,2017-04-10T18:05:57.902231Z\n",
      "20170410_180556_1025,0.23,2017-04-10T18:05:56.843645Z\n",
      "20170410_180555_1025,0.66,2017-04-10T18:05:55.785059Z\n",
      "20170405_180501_1003,0.61,2017-04-05T18:05:01.955602Z\n",
      "20170405_180500_1003,0.62,2017-04-05T18:05:00.897459Z\n",
      "20170405_180459_1003,0.73,2017-04-05T18:04:59.839316Z\n",
      "20170326_181146_0e3a,0.66,2017-03-26T18:11:46.309761Z\n",
      "20170307_180340_1029,0.77,2017-03-07T18:03:40.182257Z\n",
      "20170307_180339_1029,0.88,2017-03-07T18:03:39.105477Z\n",
      "20170307_180338_1029,0.89,2017-03-07T18:03:38.028697Z\n",
      "20170225_180315_0f1d,0.82,2017-02-25T18:03:15.851513Z\n",
      "20170225_180316_0f1d,0.73,2017-02-25T18:03:16.926503Z\n",
      "20170225_180318_0f1d,0.64,2017-02-25T18:03:18.001493Z\n",
      "20170225_180314_0f1d,0.76,2017-02-25T18:03:14.776523Z\n",
      "20170307_181054_0e0e,0.63,2017-03-07T18:10:54.220744Z\n",
      "20170307_181053_0e0e,0.62,2017-03-07T18:10:53.145601Z\n",
      "20170307_181052_0e0e,0.65,2017-03-07T18:10:52.070458Z\n",
      "20170307_181050_0e0e,0.79,2017-03-07T18:10:50.995315Z\n",
      "20170222_231255_0c27,0.04,2017-02-22T23:12:55.607172Z\n",
      "20170222_231254_1_0c27,0.01,2017-02-22T23:12:54.806558Z\n",
      "20170222_231254_0c27,0.01,2017-02-22T23:12:54.021555Z\n",
      "20170222_231252_0c27,0.01,2017-02-22T23:12:52.465748Z\n",
      "20170222_181158_0e0f,0.01,2017-02-22T18:11:58.642539Z\n",
      "20170222_181157_0e0f,0.19,2017-02-22T18:11:57.590901Z\n",
      "20170222_181156_0e0f,0.56,2017-02-22T18:11:56.539263Z\n",
      "20170222_181155_0e0f,0.8,2017-02-22T18:11:55.487625Z\n",
      "20170218_181101_0e20,0.44,2017-02-18T18:11:01.398882Z\n",
      "20170218_181100_0e20,0.27,2017-02-18T18:11:00.317736Z\n",
      "20170218_181059_0e20,0.36,2017-02-18T18:10:59.23659Z\n",
      "20170218_181058_0e20,0.52,2017-02-18T18:10:58.155444Z\n",
      "20170129_181028_0e1f,0.02,2017-01-29T18:10:28.441058Z\n",
      "20170129_181027_0e1f,0.07,2017-01-29T18:10:27.343014Z\n",
      "20170129_181026_0e1f,0.18,2017-01-29T18:10:26.24497Z\n",
      "20170128_181121_0e2f,0.33,2017-01-28T18:11:21.480619Z\n",
      "20170128_181120_0e2f,0.51,2017-01-28T18:11:20.418944Z\n",
      "20170128_181123_0e2f,0.05,2017-01-28T18:11:23.603969Z\n",
      "20170128_181122_0e2f,0.24,2017-01-28T18:11:22.542294Z\n",
      "20170120_180943_0e14,0.36,2017-01-20T18:09:43.271033Z\n",
      "20170120_180942_0e14,0.34,2017-01-20T18:09:42.176013Z\n",
      "20170120_180941_0e14,0.4,2017-01-20T18:09:41.080993Z\n",
      "20170115_181036_0e14,0.01,2017-01-15T18:10:36.289403Z\n",
      "20170115_181035_0e14,0.14,2017-01-15T18:10:35.165663Z\n",
      "20170115_181034_0e14,0.57,2017-01-15T18:10:34.041923Z\n",
      "20170106_180851_0e30,0.01,2017-01-06T18:08:51.579105Z\n",
      "20170106_180850_0e30,0.1,2017-01-06T18:08:50.467105Z\n",
      "20161231_203631_0c27,0.327,2016-12-31T20:36:31.176243Z\n",
      "20161231_203630_0c27,0.334,2016-12-31T20:36:30.349574Z\n",
      "20161231_203629_0c27,0.341,2016-12-31T20:36:29.516153Z\n",
      "20170101_180918_0e30,0.01,2017-01-01T18:09:18.757578Z\n",
      "20170101_180917_0e30,0.15,2017-01-01T18:09:17.645578Z\n",
      "20170101_180916_0e30,0.05,2017-01-01T18:09:16.533578Z\n",
      "20170101_180915_0e30,0.02,2017-01-01T18:09:15.421578Z\n",
      "20161228_181040_0e3a,0.003,2016-12-28T18:10:40.419519Z\n",
      "20161228_181041_0e3a,0.004,2016-12-28T18:10:41.549519Z\n",
      "20161228_181039_0e3a,0.002,2016-12-28T18:10:39.289519Z\n",
      "20161227_180932_0e30,0.005,2016-12-27T18:09:32.448809Z\n",
      "20161227_180931_0e30,0.004,2016-12-27T18:09:31.336809Z\n",
      "20161222_180933_0e30,0.003,2016-12-22T18:09:33.0444Z\n",
      "20161222_180934_0e30,0.004,2016-12-22T18:09:34.1564Z\n",
      "20161222_180931_0e30,0.001,2016-12-22T18:09:31.9324Z\n",
      "20161218_180846_0e26,0.004,2016-12-18T18:08:46.5508Z\n",
      "20161218_180845_0e26,0.006,2016-12-18T18:08:45.4418Z\n",
      "20161218_180844_0e26,0.004,2016-12-18T18:08:44.3328Z\n",
      "20161217_180920_0e30,0.002,2016-12-17T18:09:20.993904Z\n",
      "20161217_180919_0e30,0.003,2016-12-17T18:09:19.881904Z\n",
      "20161217_180918_0e30,0.001,2016-12-17T18:09:18.769904Z\n",
      "20161216_194037_0c65,0.001,2016-12-16T19:40:37.73527Z\n",
      "20161216_194036_1_0c65,0.001,2016-12-16T19:40:36.997056Z\n",
      "20161212_180858_0e30,0.005,2016-12-12T18:08:58.047467Z\n",
      "20161212_180856_0e30,0.004,2016-12-12T18:08:56.927632Z\n",
      "20161212_180855_0e30,0.001,2016-12-12T18:08:55.807797Z\n",
      "20161202_180735_0e30,0.006,2016-12-02T18:07:35.925584Z\n",
      "20161202_180734_0e30,0.004,2016-12-02T18:07:34.805749Z\n",
      "20161121_180914_0e14,0.008,2016-11-21T18:09:14.166758Z\n",
      "20161121_180913_0e14,0.003,2016-11-21T18:09:13.034636Z\n",
      "20161103_195524_0c27,0.002,2016-11-03T19:55:24.199675Z\n",
      "20161103_195523_0c27,0.003,2016-11-03T19:55:23.354252Z\n",
      "20161103_195522_0c27,0.004,2016-11-03T19:55:22.508277Z\n",
      "20161102_202001_0c75,0.003,2016-11-02T20:20:01.217984Z\n",
      "20161102_202000_0c75,0.005,2016-11-02T20:20:00.364277Z\n",
      "20161102_201959_0c75,0.002,2016-11-02T20:19:59.518777Z\n",
      "20161102_201958_0c75,0.002,2016-11-02T20:19:58.665006Z\n",
      "20161103_195521_0c27,0.003,2016-11-03T19:55:21.662221Z\n",
      "20161116_180804_0e14,0.009,2016-11-16T18:08:04.524709Z\n",
      "20161116_180803_0e14,0.011,2016-11-16T18:08:03.392587Z\n",
      "20161116_180802_0e14,0.007,2016-11-16T18:08:02.260465Z\n",
      "20161103_195400_0c24,0.001,2016-11-03T19:54:00.398121Z\n",
      "20161103_195359_0c24,0.003,2016-11-03T19:53:59.540448Z\n",
      "20160709_165401_0c73,0.298,2016-07-09T16:54:01.788463Z\n",
      "20160709_165401_1_0c73,0.37,2016-07-09T16:54:01.076999Z\n",
      "20160709_165402_0c73,0.3,2016-07-09T16:54:02.508738Z\n",
      "20160710_182138_0c78,0.005,2016-07-10T18:21:38.438248Z\n",
      "20160710_182139_0c78,0.008,2016-07-10T18:21:39.33059Z\n",
      "20160710_182137_0c78,0.003,2016-07-10T18:21:37.546203Z\n",
      "20160710_182140_0c78,0.005,2016-07-10T18:21:40.213627Z\n",
      "20160704_204234_0c41,0.053,2016-07-04T20:42:34.714714Z\n",
      "20160704_204348_0d05,0.017,2016-07-04T20:43:48.56225Z\n",
      "20160704_204349_0d05,0.009,2016-07-04T20:43:49.469308Z\n",
      "20161012_214236_0c76,0.395,2016-10-12T21:42:36.660825Z\n",
      "20161102_180658_0e26,0.013,2016-11-02T18:06:58.786751Z\n",
      "20161102_180657_0e26,0.005,2016-11-02T18:06:57.670247Z\n",
      "20161102_180659_0e26,0.003,2016-11-02T18:06:59.903255Z\n",
      "20161017_180737_0e30,0.003,2016-10-17T18:07:37.23124Z\n",
      "20161017_180736_0e30,0.007,2016-10-17T18:07:36.111405Z\n",
      "20161017_180738_0e30,0.006,2016-10-17T18:07:38.351075Z\n",
      "20161030_214413_1_0c45,0.028,2016-10-30T21:44:13.92765Z\n",
      "20161030_214413_0c45,0.071,2016-10-30T21:44:13.026106Z\n",
      "20161022_180612_0e19,0.011,2016-10-22T18:06:12.964629Z\n",
      "20161018_193330_0c45,0.005,2016-10-18T19:33:30.556302Z\n",
      "20161018_193329_0c45,0.004,2016-10-18T19:33:29.687077Z\n",
      "20161018_193328_0c45,0.012,2016-10-18T19:33:28.817143Z\n",
      "20161018_193327_0c45,0.015,2016-10-18T19:33:27.946198Z\n",
      "20161018_192145_0c24,0.004,2016-10-18T19:21:45.714154Z\n",
      "20161018_192144_1_0c24,0.027,2016-10-18T19:21:44.015044Z\n",
      "20161018_192144_0c24,0.005,2016-10-18T19:21:44.870153Z\n",
      "20161018_192143_0c24,0.008,2016-10-18T19:21:43.169499Z\n",
      "20161018_192142_1_0c24,0.004,2016-10-18T19:21:42.434471Z\n",
      "20161012_214238_0c76,0.217,2016-10-12T21:42:38.358508Z\n",
      "20160808_000534_0c79,0.001,2016-08-08T00:05:34.511595Z\n",
      "20160808_000533_0c79,0.004,2016-08-08T00:05:33.67542Z\n",
      "20161006_002710_0c1b,0.001,2016-10-06T00:27:10.05306Z\n",
      "20160828_155142_0c27,0.452,2016-08-28T15:51:42.854225Z\n",
      "20160905_193459_0c37,0.007,2016-09-05T19:34:59.671718Z\n",
      "20160905_193458_0c37,0.008,2016-09-05T19:34:58.836028Z\n",
      "20160905_193457_1_0c37,0.01,2016-09-05T19:34:57.995242Z\n",
      "20160905_193457_0c37,0.002,2016-09-05T19:34:57.16121Z\n",
      "20160914_180703_0e0d,0.001,2016-09-14T18:07:03.262543Z\n",
      "20160914_180702_0e0d,0.002,2016-09-14T18:07:02.062789Z\n",
      "20160914_180700_0e0d,0.001,2016-09-14T18:07:00.918076Z\n",
      "20160914_180659_0e0d,0.001,2016-09-14T18:06:59.742818Z\n"
     ]
    }
   ],
   "source": [
    "# build a request for only PlanetScope imagery\n",
    "request = filters.build_search_request(\n",
    "    query, item_types=['PSScene4Band']\n",
    ")\n",
    "\n",
    "# if you don't have an API key configured, this will raise an exception\n",
    "result = client.quick_search(request)\n",
    "\n",
    "stdout.write('id,cloud_cover,date\\n')\n",
    "\n",
    "# items_iter returns a limited iterator of all results. behind the scenes,\n",
    "# the client is paging responses from the API\n",
    "for item in result.items_iter(limit=None):\n",
    "    props = item['properties']\n",
    "    stdout.write('{0},{cloud_cover},{acquired}\\n'.format(item['id'], **props))"
   ]
  },
  {
   "cell_type": "markdown",
   "metadata": {},
   "source": [
    "### Download imagery"
   ]
  },
  {
   "cell_type": "code",
   "execution_count": 26,
   "metadata": {
    "collapsed": true
   },
   "outputs": [],
   "source": [
    "from planet.api import downloader"
   ]
  },
  {
   "cell_type": "code",
   "execution_count": 53,
   "metadata": {
    "collapsed": false
   },
   "outputs": [
    {
     "data": {
      "text/plain": [
       "{u'_self': u'https://api.planet.com/data/v1/item-types/PSScene4Band/items/20160914_180659_0e0d',\n",
       " u'assets': u'https://api.planet.com/data/v1/item-types/PSScene4Band/items/20160914_180659_0e0d/assets/',\n",
       " u'thumbnail': u'https://api.planet.com/data/v1/item-types/PSScene4Band/items/20160914_180659_0e0d/thumb'}"
      ]
     },
     "execution_count": 53,
     "metadata": {},
     "output_type": "execute_result"
    }
   ],
   "source": [
    "item['_links']"
   ]
  },
  {
   "cell_type": "code",
   "execution_count": 44,
   "metadata": {
    "collapsed": false
   },
   "outputs": [
    {
     "data": {
      "text/plain": [
       "[u'geometry', u'id', u'_links', u'_permissions', u'type', u'properties']"
      ]
     },
     "execution_count": 44,
     "metadata": {},
     "output_type": "execute_result"
    }
   ],
   "source": [
    "item.keys()"
   ]
  },
  {
   "cell_type": "code",
   "execution_count": 27,
   "metadata": {
    "collapsed": true
   },
   "outputs": [],
   "source": [
    "from planet.api import downloader\n",
    "from planet.api.utils import handle_interrupt\n",
    "import logging\n",
    "import sys\n",
    "from concurrent.futures import Future\n",
    "import threading\n",
    "import time"
   ]
  },
  {
   "cell_type": "code",
   "execution_count": 28,
   "metadata": {
    "collapsed": true
   },
   "outputs": [],
   "source": [
    "SPEED_UP = 1000.\n",
    "WRITE_DELAY = 3 / SPEED_UP\n",
    "ACTIVATE_DELAY = .5 / SPEED_UP\n",
    "DOWNLOAD_DELAY = .5 / SPEED_UP\n",
    "ASSET_DELAY = .5 / SPEED_UP\n",
    "\n",
    "class Resp(object):\n",
    "\n",
    "    def __init__(self, resp):\n",
    "        self.resp = resp\n",
    "\n",
    "    def get(self):\n",
    "        return self.resp\n",
    "\n",
    "\n",
    "class Body(object):\n",
    "    def __init__(self, name):\n",
    "        self.name = name\n",
    "        self._got_write = False\n",
    "\n",
    "    def write(self, file, callback):\n",
    "        callback(start=self)\n",
    "        callback(total=1024, wrote=1024)\n",
    "        callback(finish=self)\n",
    "        self._got_write = True\n",
    "\n",
    "    def await(self):\n",
    "        pass\n",
    "\n",
    "    def cancel(self):\n",
    "        pass\n",
    "\n",
    "\n",
    "class Download(object):\n",
    "    # mirror models.Response kinda, mostly not\n",
    "    def __init__(self, body, writer):\n",
    "        self._future = Future()\n",
    "\n",
    "        def respond():\n",
    "            self._future.set_result(body)\n",
    "            writer(body)\n",
    "        # don't write to the body synchronously\n",
    "        threading.Timer(WRITE_DELAY, respond).start()\n",
    "\n",
    "    def await(self):\n",
    "        return self._future.result()\n",
    "\n",
    "\n",
    "def asset(name, type, status):\n",
    "    return {'_name': name, 'type': type, 'status': status,\n",
    "            'location': 'http://somewhere/%s/%s' % (type, name)}\n",
    "\n",
    "\n",
    "def assets(*assets):\n",
    "    res = {}\n",
    "    for a in assets:\n",
    "        res[a['type']] = a\n",
    "    res['_pinged'] = 0\n",
    "    return res\n",
    "\n",
    "\n",
    "class HelperClient(object):\n",
    "\n",
    "    def __init__(self):\n",
    "        self.assets = {}\n",
    "        self._shutdown = False\n",
    "\n",
    "    def get_assets(self, item):\n",
    "        if item['id'] in self.assets:\n",
    "            a = self.assets[item['id']]\n",
    "            if a['_pinged'] > 2:\n",
    "                a['a']['status'] = 'active'\n",
    "                a['b']['status'] = 'active'\n",
    "            a['_pinged'] += 1\n",
    "        else:\n",
    "            a = assets(asset(item['id'] + '.junk', 'a', 'inactive'),\n",
    "                       asset(item['id'] + '.crud', 'b', 'inactive'))\n",
    "            self.assets[item['id']] = a\n",
    "        time.sleep(ASSET_DELAY)\n",
    "        return Resp(a)\n",
    "\n",
    "    def activate(self, asset):\n",
    "        time.sleep(ACTIVATE_DELAY)\n",
    "        asset['status'] = 'activating'\n",
    "\n",
    "    def download(self, asset, writer):\n",
    "        time.sleep(DOWNLOAD_DELAY)\n",
    "        b = Body(asset['_name'])\n",
    "        return Download(b, writer)\n",
    "\n",
    "    def shutdown(self):\n",
    "        self._shutdown = True\n",
    "\n",
    "\n",
    "def items_iter(cnt):\n",
    "    for i in range(cnt):\n",
    "        yield {'id': str(i)}\n"
   ]
  },
  {
   "cell_type": "code",
   "execution_count": 55,
   "metadata": {
    "collapsed": false
   },
   "outputs": [
    {
     "name": "stderr",
     "output_type": "stream",
     "text": [
      "32:53 no desired assets in item, skipping\n",
      "32:53 no desired assets in item, skipping\n",
      "32:53 no desired assets in item, skipping\n"
     ]
    },
    {
     "ename": "AssertionError",
     "evalue": "",
     "output_type": "error",
     "traceback": [
      "\u001b[0;31m---------------------------------------------------------------------------\u001b[0m",
      "\u001b[0;31mAssertionError\u001b[0m                            Traceback (most recent call last)",
      "\u001b[0;32m<ipython-input-55-16d047b53f25>\u001b[0m in \u001b[0;36m<module>\u001b[0;34m()\u001b[0m\n\u001b[1;32m     16\u001b[0m assert stats == {\n\u001b[1;32m     17\u001b[0m     \u001b[0;34m'downloading'\u001b[0m\u001b[0;34m:\u001b[0m \u001b[0;36m0\u001b[0m\u001b[0;34m,\u001b[0m \u001b[0;34m'complete'\u001b[0m\u001b[0;34m:\u001b[0m \u001b[0;36m200\u001b[0m\u001b[0;34m,\u001b[0m \u001b[0;34m'paging'\u001b[0m\u001b[0;34m:\u001b[0m \u001b[0mFalse\u001b[0m\u001b[0;34m,\u001b[0m\u001b[0;34m\u001b[0m\u001b[0m\n\u001b[0;32m---> 18\u001b[0;31m     \u001b[0;34m'downloaded'\u001b[0m\u001b[0;34m:\u001b[0m \u001b[0;34m'0.20MB'\u001b[0m\u001b[0;34m,\u001b[0m \u001b[0;34m'activating'\u001b[0m\u001b[0;34m:\u001b[0m \u001b[0;36m0\u001b[0m\u001b[0;34m,\u001b[0m \u001b[0;34m'pending'\u001b[0m\u001b[0;34m:\u001b[0m \u001b[0;36m0\u001b[0m\u001b[0;34m\u001b[0m\u001b[0m\n\u001b[0m\u001b[1;32m     19\u001b[0m }\n\u001b[1;32m     20\u001b[0m \u001b[0;32massert\u001b[0m \u001b[0;36m200\u001b[0m \u001b[0;34m==\u001b[0m \u001b[0mlen\u001b[0m\u001b[0;34m(\u001b[0m\u001b[0mcompleted\u001b[0m\u001b[0;34m)\u001b[0m\u001b[0;34m\u001b[0m\u001b[0m\n",
      "\u001b[0;31mAssertionError\u001b[0m: "
     ]
    }
   ],
   "source": [
    "logging.basicConfig(\n",
    "    stream=sys.stderr, level=logging.INFO,\n",
    "    format='%(asctime)s %(message)s', datefmt='%M:%S'\n",
    ")\n",
    "cl = HelperClient()\n",
    "items = items_iter(3)\n",
    "asset_types = ['analytic', 'visual']\n",
    "dl = downloader.create(\n",
    "    cl, no_sleep=True,\n",
    "    astage__size=10, pstage__size=10, pstage__min_poll_interval=0,\n",
    "    dstage__size=2)\n",
    "completed = []\n",
    "dl.on_complete = lambda *a: completed.append(a)\n",
    "stats = handle_interrupt(dl.shutdown, dl.download, items,\n",
    "                         asset_types, 'dest')\n",
    "assert stats == {\n",
    "    'downloading': 0, 'complete': 200, 'paging': False,\n",
    "    'downloaded': '0.20MB', 'activating': 0, 'pending': 0\n",
    "}\n",
    "assert 200 == len(completed)\n",
    "\n"
   ]
  },
  {
   "cell_type": "code",
   "execution_count": 35,
   "metadata": {
    "collapsed": false
   },
   "outputs": [
    {
     "data": {
      "text/plain": [
       "{'activating': 0,\n",
       " 'complete': 200,\n",
       " 'downloaded': '0.20MB',\n",
       " 'downloading': 0,\n",
       " 'paging': False,\n",
       " 'pending': 0}"
      ]
     },
     "execution_count": 35,
     "metadata": {},
     "output_type": "execute_result"
    }
   ],
   "source": [
    "dl.download()"
   ]
  },
  {
   "cell_type": "code",
   "execution_count": null,
   "metadata": {
    "collapsed": true
   },
   "outputs": [],
   "source": []
  }
 ],
 "metadata": {
  "kernelspec": {
   "display_name": "Python 2",
   "language": "python",
   "name": "python2"
  },
  "language_info": {
   "codemirror_mode": {
    "name": "ipython",
    "version": 2
   },
   "file_extension": ".py",
   "mimetype": "text/x-python",
   "name": "python",
   "nbconvert_exporter": "python",
   "pygments_lexer": "ipython2",
   "version": "2.7.6"
  }
 },
 "nbformat": 4,
 "nbformat_minor": 0
}
