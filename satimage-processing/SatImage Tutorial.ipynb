{
 "cells": [
  {
   "cell_type": "code",
   "execution_count": 1,
   "metadata": {
    "collapsed": false
   },
   "outputs": [
    {
     "name": "stderr",
     "output_type": "stream",
     "text": [
      "/usr/local/lib/python2.7/dist-packages/matplotlib/font_manager.py:273: UserWarning: Matplotlib is building the font cache using fc-list. This may take a moment.\n",
      "  warnings.warn('Matplotlib is building the font cache using fc-list. This may take a moment.')\n"
     ]
    }
   ],
   "source": [
    "import numpy as np\n",
    "import pandas as pd\n",
    "import gdal\n",
    "from gdalconst import * \n",
    "\n",
    "import sys, os, time\n",
    "\n",
    "from matplotlib import pyplot as plt\n",
    "%matplotlib inline\n",
    "\n",
    "from PIL import Image\n",
    "\n",
    "from IPython.display import clear_output\n",
    "\n",
    "# these magics ensure that external modules that are modified are also automatically reloaded\n",
    "%load_ext autoreload\n",
    "%autoreload 2"
   ]
  },
  {
   "cell_type": "markdown",
   "metadata": {},
   "source": [
    "## Load data in GeoTiff format"
   ]
  },
  {
   "cell_type": "markdown",
   "metadata": {},
   "source": [
    "Let's look at the VIIRS data of night lights. This data is acquired monthly and is available since 2012. The spatial resolution is $0.5 \\ km^2/px$.\n",
    "The data is provided as a set of 6 tiles that span most of the globe (two files per tile)."
   ]
  },
  {
   "cell_type": "code",
   "execution_count": null,
   "metadata": {
    "collapsed": true
   },
   "outputs": [],
   "source": [
    "# list of files \n",
    "\n",
    "# files = \"\"\"http://mapserver.ngdc.noaa.gov/viirs_data/viirs_composite/v10//201609/vcmcfg/SVDNB_npp_20160901-20160930_75N180W_vcmcfg_v10_c201610280941.tgz\n",
    "# http://mapserver.ngdc.noaa.gov/viirs_data/viirs_composite/v10//201609/vcmcfg/SVDNB_npp_20160901-20160930_75N060W_vcmcfg_v10_c201610280941.tgz\n",
    "# http://mapserver.ngdc.noaa.gov/viirs_data/viirs_composite/v10//201609/vcmcfg/SVDNB_npp_20160901-20160930_75N060E_vcmcfg_v10_c201610280941.tgz\n",
    "# http://mapserver.ngdc.noaa.gov/viirs_data/viirs_composite/v10//201609/vcmcfg/SVDNB_npp_20160901-20160930_00N180W_vcmcfg_v10_c201610280941.tgz\n",
    "# http://mapserver.ngdc.noaa.gov/viirs_data/viirs_composite/v10//201609/vcmcfg/SVDNB_npp_20160901-20160930_00N060W_vcmcfg_v10_c201610280941.tgz\n",
    "# http://mapserver.ngdc.noaa.gov/viirs_data/viirs_composite/v10//201609/vcmcfg/SVDNB_npp_20160901-20160930_00N060E_vcmcfg_v10_c201610280941.tgz\"\"\".split(\"\\n\")"
   ]
  },
  {
   "cell_type": "code",
   "execution_count": null,
   "metadata": {
    "collapsed": true
   },
   "outputs": [],
   "source": [
    "rast_file = \"/home/ubuntu/data/VIIRS/2016-09/SVDNB_npp_20160901-20160930_75N180W_vcmcfg_v10_c201610280941.avg_rade9.tif\""
   ]
  },
  {
   "cell_type": "markdown",
   "metadata": {},
   "source": [
    "### Using plain GDAL"
   ]
  },
  {
   "cell_type": "code",
   "execution_count": null,
   "metadata": {
    "collapsed": false
   },
   "outputs": [],
   "source": [
    "rast = gdal.Open(rast_file, GA_ReadOnly)\n",
    "rast"
   ]
  },
  {
   "cell_type": "code",
   "execution_count": null,
   "metadata": {
    "collapsed": false
   },
   "outputs": [],
   "source": [
    "cols = rast.RasterXSize\n",
    "rows = rast.RasterYSize\n",
    "bands = rast.RasterCount\n",
    "driver = rast.GetDriver().LongName\n",
    "print \"Data size: %d x %d x %d (cols x rows x bands)\"%(cols, rows, bands)\n",
    "print driver"
   ]
  },
  {
   "cell_type": "code",
   "execution_count": null,
   "metadata": {
    "collapsed": true
   },
   "outputs": [],
   "source": [
    "geotransform = rast.GetGeoTransform()\n",
    "originX = geotransform[0]\n",
    "originY = geotransform[3]\n",
    "pixelWidth = geotransform[1]\n",
    "pixelHeight = geotransform[5]"
   ]
  },
  {
   "cell_type": "code",
   "execution_count": null,
   "metadata": {
    "collapsed": false
   },
   "outputs": [],
   "source": [
    "print originX, originY, pixelWidth, pixelHeight"
   ]
  },
  {
   "cell_type": "code",
   "execution_count": null,
   "metadata": {
    "collapsed": false
   },
   "outputs": [],
   "source": [
    "band = rast.GetRasterBand(1)\n",
    "bandtype = gdal.GetDataTypeName(band.DataType)\n",
    "print bandtype"
   ]
  },
  {
   "cell_type": "code",
   "execution_count": null,
   "metadata": {
    "collapsed": false
   },
   "outputs": [],
   "source": [
    "band.XSize, band.YSize"
   ]
  },
  {
   "cell_type": "code",
   "execution_count": null,
   "metadata": {
    "collapsed": false
   },
   "outputs": [],
   "source": [
    "data = band.ReadAsArray(0, 0, cols, rows)\n",
    "value = data[3500,4000]\n",
    "print value\n",
    "\n",
    "data = band.ReadAsArray(0, 0, rast.RasterXSize, rast.RasterYSize).astype(np.float)\n",
    "value = data[3500,4000]\n",
    "print value\n"
   ]
  },
  {
   "cell_type": "markdown",
   "metadata": {},
   "source": [
    "### Using rasterio"
   ]
  },
  {
   "cell_type": "code",
   "execution_count": null,
   "metadata": {
    "collapsed": true
   },
   "outputs": [],
   "source": [
    "import rasterio\n",
    "rast2 = rasterio.open(rast_file)"
   ]
  },
  {
   "cell_type": "code",
   "execution_count": null,
   "metadata": {
    "collapsed": false
   },
   "outputs": [],
   "source": [
    "rast2.name, rast2.mode"
   ]
  },
  {
   "cell_type": "code",
   "execution_count": null,
   "metadata": {
    "collapsed": false
   },
   "outputs": [],
   "source": [
    "arr = rast2.read(1)"
   ]
  },
  {
   "cell_type": "code",
   "execution_count": null,
   "metadata": {
    "collapsed": false
   },
   "outputs": [],
   "source": [
    "arr.shape"
   ]
  },
  {
   "cell_type": "code",
   "execution_count": null,
   "metadata": {
    "collapsed": false
   },
   "outputs": [],
   "source": [
    "plt.imshow(arr[6000:8000,6000:8000], cmap='pink')\n",
    "plt.show()  "
   ]
  },
  {
   "cell_type": "markdown",
   "metadata": {},
   "source": [
    "# Extract regions of interest"
   ]
  },
  {
   "cell_type": "markdown",
   "metadata": {},
   "source": [
    "### Utilities in satimg"
   ]
  },
  {
   "cell_type": "code",
   "execution_count": null,
   "metadata": {
    "collapsed": false
   },
   "outputs": [],
   "source": [
    "import sys\n",
    "sys.path.append(\"../satellite-image-processing/\")\n",
    "import satimg "
   ]
  },
  {
   "cell_type": "code",
   "execution_count": null,
   "metadata": {
    "collapsed": false
   },
   "outputs": [],
   "source": [
    "bounds = satimg.get_geotiff_bounds(rast)\n",
    "bounds "
   ]
  },
  {
   "cell_type": "code",
   "execution_count": null,
   "metadata": {
    "collapsed": true
   },
   "outputs": [],
   "source": [
    "loc = (37.7749, -122.4194) # San Francisco lat/lon"
   ]
  },
  {
   "cell_type": "code",
   "execution_count": null,
   "metadata": {
    "collapsed": false
   },
   "outputs": [],
   "source": [
    "bbox = satimg.bounding_box_at_location(loc, (100,100))\n",
    "print bbox"
   ]
  },
  {
   "cell_type": "code",
   "execution_count": null,
   "metadata": {
    "collapsed": false
   },
   "outputs": [],
   "source": [
    "geoSize = satimg.km_to_deg_at_location(loc, (100,100))\n",
    "print geoSize"
   ]
  },
  {
   "cell_type": "code",
   "execution_count": null,
   "metadata": {
    "collapsed": false
   },
   "outputs": [],
   "source": [
    "from pyproj import Proj, transform\n",
    "\n",
    "inProj = Proj(init='epsg:3857')\n",
    "outProj = Proj(init='epsg:4326')\n",
    "x1,y1 = -11705274.6374,4826473.6922\n",
    "x2,y2 = transform(inProj,outProj,x1,y1)\n",
    "print x2,y2"
   ]
  },
  {
   "cell_type": "markdown",
   "metadata": {},
   "source": [
    "### Using SatSense class"
   ]
  },
  {
   "cell_type": "code",
   "execution_count": null,
   "metadata": {
    "collapsed": false
   },
   "outputs": [],
   "source": [
    "simg = satimg.SatImage(rast_file)"
   ]
  },
  {
   "cell_type": "code",
   "execution_count": null,
   "metadata": {
    "collapsed": false
   },
   "outputs": [],
   "source": [
    "img = simg.get_image_at_location(loc, w=100)\n",
    "img[0].shape"
   ]
  },
  {
   "cell_type": "code",
   "execution_count": null,
   "metadata": {
    "collapsed": false
   },
   "outputs": [],
   "source": [
    "plt.figure(figsize=(8,6))\n",
    "plt.imshow(img[0], cmap='pink')"
   ]
  },
  {
   "cell_type": "code",
   "execution_count": null,
   "metadata": {
    "collapsed": false
   },
   "outputs": [],
   "source": [
    "import geocoder\n",
    "locs = [\"San Francisco, CA\", \"Cambridge, MA\", \"Toronto, Canada\"]\n",
    "locs = [tuple(geocoder.google(l).latlng) for l in locs]"
   ]
  },
  {
   "cell_type": "code",
   "execution_count": null,
   "metadata": {
    "collapsed": false
   },
   "outputs": [],
   "source": [
    "locs"
   ]
  },
  {
   "cell_type": "code",
   "execution_count": null,
   "metadata": {
    "collapsed": false
   },
   "outputs": [],
   "source": [
    "images = simg.get_image_at_locations(locs, w=100)"
   ]
  },
  {
   "cell_type": "code",
   "execution_count": null,
   "metadata": {
    "collapsed": false
   },
   "outputs": [],
   "source": [
    "for i in images.values():\n",
    "    plt.figure(figsize=(8,4))\n",
    "    plt.imshow(i[0], cmap='pink')"
   ]
  },
  {
   "cell_type": "code",
   "execution_count": null,
   "metadata": {
    "collapsed": false
   },
   "outputs": [],
   "source": [
    "satimg.generate_locations_within_bounding_box(bbox, 10)"
   ]
  },
  {
   "cell_type": "code",
   "execution_count": null,
   "metadata": {
    "collapsed": false
   },
   "outputs": [],
   "source": [
    "bbox"
   ]
  },
  {
   "cell_type": "code",
   "execution_count": null,
   "metadata": {
    "collapsed": false
   },
   "outputs": [],
   "source": [
    "from shapely.geometry import Polygon, Point\n",
    "p = Polygon([(bbox[1], bbox[0]), ([bbox[1], bbox[2]]), (([bbox[3], bbox[2]])), ([bbox[3], bbox[0]])])"
   ]
  },
  {
   "cell_type": "code",
   "execution_count": null,
   "metadata": {
    "collapsed": false
   },
   "outputs": [],
   "source": [
    "satimg.generate_locations_within_polygon(p, 10)"
   ]
  },
  {
   "cell_type": "code",
   "execution_count": null,
   "metadata": {
    "collapsed": true
   },
   "outputs": [],
   "source": [
    "sampleImages = simg.sample_images_around_location(loc, w=5, W=100, nSamples=10)"
   ]
  },
  {
   "cell_type": "code",
   "execution_count": null,
   "metadata": {
    "collapsed": false
   },
   "outputs": [],
   "source": [
    "len(sampleImages)"
   ]
  },
  {
   "cell_type": "code",
   "execution_count": null,
   "metadata": {
    "collapsed": false
   },
   "outputs": [],
   "source": [
    "for l,i in sampleImages.iteritems():\n",
    "    plt.imshow(i[0])\n",
    "    plt.show()"
   ]
  },
  {
   "cell_type": "markdown",
   "metadata": {},
   "source": [
    "### Open raster data with rasterio"
   ]
  },
  {
   "cell_type": "code",
   "execution_count": null,
   "metadata": {
    "collapsed": false
   },
   "outputs": [],
   "source": [
    "import rasterio\n",
    "from rasterio.tools.mask import mask\n",
    "\n",
    "# the polygon GeoJSON geometry\n",
    "geoms = [{'type': 'Polygon', \n",
    "          'coordinates': [[(bbox[1], bbox[0]), ([bbox[1], bbox[2]]), (([bbox[3], bbox[2]])), ([bbox[3], bbox[0]])]]}]\n",
    "\n",
    "# load the raster, mask it by the polygon and crop it\n",
    "src = rasterio.open(rast_file)\n",
    "out_image, out_transform = mask(src, geoms, crop=True)\n",
    "out_meta = src.meta.copy()\n",
    "\n",
    "print out_image.data.sum()\n",
    "\n",
    "# # save the resulting raster  \n",
    "# out_meta.update({\"driver\": \"GTiff\",\n",
    "#     \"height\": out_image.shape[1],\n",
    "#     \"width\": out_image.shape[2],\n",
    "# \"transform\": out_transform})\n",
    "\n",
    "# with rasterio.open(\"masked.tif\", \"w\", **out_meta) as dest:\n",
    "#     dest.write(out_image)"
   ]
  },
  {
   "cell_type": "code",
   "execution_count": null,
   "metadata": {
    "collapsed": false
   },
   "outputs": [],
   "source": [
    "plt.imshow(out_image.data[0,:,:])"
   ]
  },
  {
   "cell_type": "markdown",
   "metadata": {},
   "source": [
    "# Display map using ipyleaflet"
   ]
  },
  {
   "cell_type": "code",
   "execution_count": null,
   "metadata": {
    "collapsed": false
   },
   "outputs": [],
   "source": [
    "# json\n",
    "import json\n",
    "\n",
    "# widgets\n",
    "import ipyleaflet as ll"
   ]
  },
  {
   "cell_type": "code",
   "execution_count": null,
   "metadata": {
    "collapsed": true
   },
   "outputs": [],
   "source": [
    "m = ll.Map(center=loc, zoom=4)"
   ]
  },
  {
   "cell_type": "code",
   "execution_count": null,
   "metadata": {
    "collapsed": false
   },
   "outputs": [],
   "source": [
    "m"
   ]
  },
  {
   "cell_type": "code",
   "execution_count": null,
   "metadata": {
    "collapsed": true
   },
   "outputs": [],
   "source": [
    "with open('./europe_110.geo.json') as f:\n",
    "    data = json.load(f)\n",
    "\n",
    "for feature in data['features']:\n",
    "    feature['properties']['style'] = {\n",
    "        'color': 'grey',\n",
    "        'weight': 1,\n",
    "        'fillColor': 'grey',\n",
    "        'fillOpacity': 0.5\n",
    "    }\n",
    "\n",
    "layer = ll.GeoJSON(data=data, hover_style={'fillColor': 'red'})\n",
    "\n",
    "def hover_handler(event=None, id=None, properties=None):\n",
    "    sys.stdout.write(\"\\r\" + properties['geounit'])\n",
    "    sys.stdout.flush()\n",
    "    \n",
    "layer.on_hover(hover_handler)\n",
    "    \n",
    "map.add_layer(layer)\n",
    "\n",
    "map"
   ]
  }
 ],
 "metadata": {
  "kernelspec": {
   "display_name": "Python 2",
   "language": "python",
   "name": "python2"
  },
  "language_info": {
   "codemirror_mode": {
    "name": "ipython",
    "version": 2
   },
   "file_extension": ".py",
   "mimetype": "text/x-python",
   "name": "python",
   "nbconvert_exporter": "python",
   "pygments_lexer": "ipython2",
   "version": "2.7.6"
  }
 },
 "nbformat": 4,
 "nbformat_minor": 1
}
